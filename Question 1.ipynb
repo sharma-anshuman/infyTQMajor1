{
 "cells": [
  {
   "cell_type": "code",
   "execution_count": 1,
   "id": "3d59d0b5",
   "metadata": {},
   "outputs": [
    {
     "name": "stdout",
     "output_type": "stream",
     "text": [
      "Enter number of elements : 2\n",
      "\n",
      "Enter the numbers : 3 3\n",
      "6\n",
      "[1, 0]\n"
     ]
    }
   ],
   "source": [
    " def twoSum(nums, target: int):\n",
    "        pos = {}\n",
    "        for i, j in enumerate(nums):\n",
    "            rem = target - j\n",
    "            if rem in pos:\n",
    "                return [i, pos[rem]]   \n",
    "            pos[j] = i \n",
    "\n",
    "\n",
    "n = int(input(\"Enter number of elements : \"))\n",
    " \n",
    "# Below line read inputs from user using map() function\n",
    "a = list(map(int,input(\"\\nEnter the numbers : \").strip().split()))[:n]\n",
    "        \n",
    "    \n",
    "target = int(input())\n",
    "     \n",
    "ans = twoSum(a, target)\n",
    "print(ans)"
   ]
  },
  {
   "cell_type": "code",
   "execution_count": null,
   "id": "be809a12",
   "metadata": {},
   "outputs": [],
   "source": []
  }
 ],
 "metadata": {
  "kernelspec": {
   "display_name": "Python 3 (ipykernel)",
   "language": "python",
   "name": "python3"
  },
  "language_info": {
   "codemirror_mode": {
    "name": "ipython",
    "version": 3
   },
   "file_extension": ".py",
   "mimetype": "text/x-python",
   "name": "python",
   "nbconvert_exporter": "python",
   "pygments_lexer": "ipython3",
   "version": "3.9.7"
  }
 },
 "nbformat": 4,
 "nbformat_minor": 5
}
